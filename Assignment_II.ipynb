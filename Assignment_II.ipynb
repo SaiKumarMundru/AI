{
  "nbformat": 4,
  "nbformat_minor": 0,
  "metadata": {
    "colab": {
      "name": "Assignment II.ipynb",
      "provenance": [],
      "collapsed_sections": [],
      "authorship_tag": "ABX9TyNDEUpj5k7uzzlIr/zhv0js",
      "include_colab_link": true
    },
    "kernelspec": {
      "name": "python3",
      "display_name": "Python 3"
    },
    "language_info": {
      "name": "python"
    }
  },
  "cells": [
    {
      "cell_type": "markdown",
      "metadata": {
        "id": "view-in-github",
        "colab_type": "text"
      },
      "source": [
        "<a href=\"https://colab.research.google.com/github/SaiKumarMundru/AI/blob/main/Assignment_II.ipynb\" target=\"_parent\"><img src=\"https://colab.research.google.com/assets/colab-badge.svg\" alt=\"Open In Colab\"/></a>"
      ]
    },
    {
      "cell_type": "code",
      "metadata": {
        "colab": {
          "base_uri": "https://localhost:8080/"
        },
        "id": "aQBWvMS-9Zj3",
        "outputId": "171fcda5-12cb-4481-fdb3-4d74f7c03da9"
      },
      "source": [
        "import numpy as np\n",
        "import math\n",
        "x=np.random.uniform(-5,5)\n",
        "eta=0.1\n",
        "iter_max=50\n",
        "iter=1\n",
        "while iter<=iter_max:\n",
        "  g_x = 4*x*x*x + 6*x\n",
        "  d_x=-eta*g_x\n",
        "  x=x+d_x\n",
        "  iter=iter+1\n",
        "obj=pow(x,4)+3*pow(x,2)+10\n",
        "print(\"Minimum =\",obj,\"at X=\",x,)"
      ],
      "execution_count": null,
      "outputs": [
        {
          "output_type": "stream",
          "name": "stdout",
          "text": [
            "Minimum = 10.0 at X= 4.6681105008584174e-21\n"
          ]
        }
      ]
    }
  ]
}