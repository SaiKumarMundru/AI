{
  "nbformat": 4,
  "nbformat_minor": 0,
  "metadata": {
    "colab": {
      "name": "Assignment  III.ipynb",
      "provenance": [],
      "collapsed_sections": [],
      "authorship_tag": "ABX9TyPqjJ6jq8ACYJ8DPknnTqZg",
      "include_colab_link": true
    },
    "kernelspec": {
      "name": "python3",
      "display_name": "Python 3"
    },
    "language_info": {
      "name": "python"
    }
  },
  "cells": [
    {
      "cell_type": "markdown",
      "metadata": {
        "id": "view-in-github",
        "colab_type": "text"
      },
      "source": [
        "<a href=\"https://colab.research.google.com/github/SaiKumarMundru/AI/blob/main/Assignment_III.ipynb\" target=\"_parent\"><img src=\"https://colab.research.google.com/assets/colab-badge.svg\" alt=\"Open In Colab\"/></a>"
      ]
    },
    {
      "cell_type": "code",
      "metadata": {
        "colab": {
          "base_uri": "https://localhost:8080/"
        },
        "id": "zbsOIRITdQ8K",
        "outputId": "c9c820f6-8897-45c1-b2b4-ed124a4a33a9"
      },
      "source": [
        "import numpy as np\n",
        "import math\n",
        "x=np.random.uniform(-10,10)\n",
        "y=np.random.uniform(-10,10)\n",
        "eta=0.1\n",
        "iter_max=30\n",
        "iter=1\n",
        "while iter<=iter_max:\n",
        "  g_x= 6*x\n",
        "  g_y= -5*(math.exp(-y))\n",
        "  d_x=-eta*g_x\n",
        "  d_y=-eta*g_y\n",
        "  x=x+d_x\n",
        "  y=y+d_y\n",
        "  iter=iter+1\n",
        "obj=3*x*x+5*math.exp(-y)+10\n",
        "print(\"Minimum =\",obj,\"at X=\",x,\"Y=\",y)"
      ],
      "execution_count": null,
      "outputs": [
        {
          "output_type": "stream",
          "name": "stdout",
          "text": [
            "Minimum = 10.295266500095657 at X= -5.2716356765535695e-12 Y= 2.829314852732943\n"
          ]
        }
      ]
    }
  ]
}