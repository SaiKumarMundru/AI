{
  "nbformat": 4,
  "nbformat_minor": 0,
  "metadata": {
    "colab": {
      "name": "Untitled0.ipynb",
      "provenance": [],
      "authorship_tag": "ABX9TyMXLxCB9uBxh1RMF22agva3",
      "include_colab_link": true
    },
    "kernelspec": {
      "name": "python3",
      "display_name": "Python 3"
    },
    "language_info": {
      "name": "python"
    }
  },
  "cells": [
    {
      "cell_type": "markdown",
      "metadata": {
        "id": "view-in-github",
        "colab_type": "text"
      },
      "source": [
        "<a href=\"https://colab.research.google.com/github/SaiKumarMundru/AI/blob/main/Untitled0.ipynb\" target=\"_parent\"><img src=\"https://colab.research.google.com/assets/colab-badge.svg\" alt=\"Open In Colab\"/></a>"
      ]
    },
    {
      "cell_type": "code",
      "metadata": {
        "colab": {
          "base_uri": "https://localhost:8080/"
        },
        "id": "YSjRiQmvaOfc",
        "outputId": "2f260e79-05ec-46c5-ed87-0e504752aba3"
      },
      "source": [
        "from scipy.optimize import linprog\n",
        "obj = [-50,-120]\n",
        "A_ieq = [[10,30],[7000,2000],[1,1]]\n",
        "B_ieq = [1200,700000,110]\n",
        "boundary = [(0, float(\"inf\")),(0, float(\"inf\"))]\n",
        "opt = linprog(c=obj,A_ub=A_ieq,b_ub=B_ieq,A_eq=None,b_eq=None,bounds=boundary,method=\"Simplex\")\n",
        "opt.x\n",
        "profit = round((opt.x[0]*50) + (opt.x[1]*120))\n",
        "print(\"The total area required for growing wheat is \",round(opt.x[0]))\n",
        "print(\"The total area required for growing barley is \",round(opt.x[1]))\n",
        "print(\"The total profit is = \",profit)"
      ],
      "execution_count": null,
      "outputs": [
        {
          "output_type": "stream",
          "text": [
            "The total area required for growing wheat is  98\n",
            "The total area required for growing barley is  7\n",
            "The total profit is =  5779\n"
          ],
          "name": "stdout"
        }
      ]
    }
  ]
}